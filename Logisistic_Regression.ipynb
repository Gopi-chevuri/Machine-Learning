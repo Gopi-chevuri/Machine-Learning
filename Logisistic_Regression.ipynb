{
  "nbformat": 4,
  "nbformat_minor": 0,
  "metadata": {
    "colab": {
      "name": "Logisistic Regression",
      "provenance": [],
      "authorship_tag": "ABX9TyMUjbWC1KHBtnbCZZvBsCvI"
    },
    "kernelspec": {
      "name": "python3",
      "display_name": "Python 3"
    },
    "language_info": {
      "name": "python"
    }
  },
  "cells": [
    {
      "cell_type": "markdown",
      "source": [
        "IMPORT ALL LIBRARIES"
      ],
      "metadata": {
        "id": "s5T_iMGpto_t"
      }
    },
    {
      "cell_type": "code",
      "execution_count": 286,
      "metadata": {
        "id": "3UIWbUnwarmn"
      },
      "outputs": [],
      "source": [
        "import matplotlib.pyplot as plt\n",
        "import numpy as np\n",
        "from sklearn.datasets import load_iris\n",
        "from sklearn.linear_model import LogisticRegression\n",
        "from sklearn.metrics import classification_report, confusion_matrix\n",
        "from sklearn.model_selection import train_test_split\n",
        "from sklearn.preprocessing import StandardScaler"
      ]
    },
    {
      "cell_type": "markdown",
      "source": [
        "SPLIT THE DATA INTO TRAINING DATA AS WELL AS TESTING DATA"
      ],
      "metadata": {
        "id": "gGZ2PjVat2TE"
      }
    },
    {
      "cell_type": "code",
      "source": [
        "from sklearn import preprocessing\n",
        "X_train, X_test, y_train, y_test = train_test_split(iris.data, iris.target, test_size=0.1, random_state=41)\n"
      ],
      "metadata": {
        "id": "8_i7V0sDkOpK"
      },
      "execution_count": 287,
      "outputs": []
    },
    {
      "cell_type": "markdown",
      "source": [
        "NOW SCALE THE TRAINING DATA IN WAY THAT MEAN IS 0 AND STANDARD DEVIATION IS 1"
      ],
      "metadata": {
        "id": "vaLa_dpOubRq"
      }
    },
    {
      "cell_type": "code",
      "source": [
        "scaler = StandardScaler()\n",
        "X_train = scaler.fit_transform(X_train)"
      ],
      "metadata": {
        "id": "B3iVfKHcleRL"
      },
      "execution_count": 288,
      "outputs": []
    },
    {
      "cell_type": "code",
      "source": [
        "X_train[0], np.mean(X_train[0]), np.std(X_train[0])"
      ],
      "metadata": {
        "colab": {
          "base_uri": "https://localhost:8080/"
        },
        "id": "2JNPvpDCliX8",
        "outputId": "e4cdad22-9605-4589-d0a5-085eba0e93fb"
      },
      "execution_count": 289,
      "outputs": [
        {
          "output_type": "execute_result",
          "data": {
            "text/plain": [
              "(array([ 0.57868526, -0.61161255,  0.78889502,  0.43502213]),\n",
              " 0.29774746310175193,\n",
              " 0.5398916414233776)"
            ]
          },
          "metadata": {},
          "execution_count": 289
        }
      ]
    },
    {
      "cell_type": "markdown",
      "source": [
        "NOW FIT THE MODEL USING LOGISTIC REGRESSION"
      ],
      "metadata": {
        "id": "wqJPEleFvPy_"
      }
    },
    {
      "cell_type": "code",
      "source": [
        "model = LogisticRegression(C=7,multi_class='ovr',random_state=11)\n",
        "model.fit(X_train, y_train)"
      ],
      "metadata": {
        "colab": {
          "base_uri": "https://localhost:8080/"
        },
        "id": "g7Czy1MolmlW",
        "outputId": "4363e8f6-49ce-4720-b507-5df1698e10d9"
      },
      "execution_count": 290,
      "outputs": [
        {
          "output_type": "execute_result",
          "data": {
            "text/plain": [
              "LogisticRegression(C=7, multi_class='ovr', random_state=11)"
            ]
          },
          "metadata": {},
          "execution_count": 290
        }
      ]
    },
    {
      "cell_type": "markdown",
      "source": [
        "NOW SCALE THE TESTING DATA "
      ],
      "metadata": {
        "id": "SUD6171EuuXP"
      }
    },
    {
      "cell_type": "code",
      "source": [
        "X_test = scaler.transform(X_test)\n",
        "y_pred = model.predict(X_test)"
      ],
      "metadata": {
        "id": "kFGRRSlklqTG"
      },
      "execution_count": 291,
      "outputs": []
    },
    {
      "cell_type": "code",
      "source": [
        "model.score(X_train, y_train)"
      ],
      "metadata": {
        "colab": {
          "base_uri": "https://localhost:8080/"
        },
        "id": "giP9oAgYltxE",
        "outputId": "a2cfcd69-d19d-4cc0-95aa-fe14aaae1bef"
      },
      "execution_count": 292,
      "outputs": [
        {
          "output_type": "execute_result",
          "data": {
            "text/plain": [
              "0.9703703703703703"
            ]
          },
          "metadata": {},
          "execution_count": 292
        }
      ]
    },
    {
      "cell_type": "markdown",
      "source": [
        "THE ACCURACY OF TRAINING DATA IS \"97%"
      ],
      "metadata": {
        "id": "62Zjgekju0Xw"
      }
    },
    {
      "cell_type": "code",
      "source": [
        "model.score(X_test, y_test)"
      ],
      "metadata": {
        "colab": {
          "base_uri": "https://localhost:8080/"
        },
        "id": "el4SKoNrlzDV",
        "outputId": "4ef62d2f-d2a5-40a1-db9b-bcd305ae9b11"
      },
      "execution_count": 293,
      "outputs": [
        {
          "output_type": "execute_result",
          "data": {
            "text/plain": [
              "0.9333333333333333"
            ]
          },
          "metadata": {},
          "execution_count": 293
        }
      ]
    },
    {
      "cell_type": "markdown",
      "source": [
        "THE ACCURACY OF TESTING DATA IS \"93%\""
      ],
      "metadata": {
        "id": "0Q3FYV0ru5-f"
      }
    },
    {
      "cell_type": "markdown",
      "source": [
        "CONFUSION MATRIX IS :"
      ],
      "metadata": {
        "id": "Zixb5-v-vCw2"
      }
    },
    {
      "cell_type": "code",
      "source": [
        "confusion_matrix(y_test, y_pred)"
      ],
      "metadata": {
        "colab": {
          "base_uri": "https://localhost:8080/"
        },
        "id": "sWevW3wDl2uj",
        "outputId": "c2c72137-8897-42c6-b093-450a02bbbcf9"
      },
      "execution_count": 294,
      "outputs": [
        {
          "output_type": "execute_result",
          "data": {
            "text/plain": [
              "array([[3, 0, 0],\n",
              "       [0, 4, 0],\n",
              "       [0, 1, 7]])"
            ]
          },
          "metadata": {},
          "execution_count": 294
        }
      ]
    },
    {
      "cell_type": "markdown",
      "source": [
        "EVALUTION METRICS ARE :"
      ],
      "metadata": {
        "id": "FLlevORwvGJi"
      }
    },
    {
      "cell_type": "code",
      "source": [
        "print(classification_report(y_test, y_pred))"
      ],
      "metadata": {
        "colab": {
          "base_uri": "https://localhost:8080/"
        },
        "id": "YF2Sv3NYl7ar",
        "outputId": "89a9f365-2f7d-4458-9464-3a268020a9d7"
      },
      "execution_count": 295,
      "outputs": [
        {
          "output_type": "stream",
          "name": "stdout",
          "text": [
            "              precision    recall  f1-score   support\n",
            "\n",
            "           0       1.00      1.00      1.00         3\n",
            "           1       0.80      1.00      0.89         4\n",
            "           2       1.00      0.88      0.93         8\n",
            "\n",
            "    accuracy                           0.93        15\n",
            "   macro avg       0.93      0.96      0.94        15\n",
            "weighted avg       0.95      0.93      0.93        15\n",
            "\n"
          ]
        }
      ]
    }
  ]
}